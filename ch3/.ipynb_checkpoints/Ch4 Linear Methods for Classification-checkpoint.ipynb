{
 "cells": [
  {
   "cell_type": "markdown",
   "metadata": {},
   "source": [
    "# 4.1 Introduction    \n",
    "1. 线性分类的本质即是找到决策边界，而这个决策边界通常与线性回归中的函数相关。    \n",
    "2. 两个模型的对比，线性判别分析与线性逻辑回归。   \n",
    "\n",
    "# 4.2 Linear Regression of An Indicator Matrix.   \n",
    "1. 虽然可以用线性回归函数作为决策边界，但是由于回归的任意性，其值可能无穷大也可能为负数，一般有以下两种方法：     \n",
    "    * 将输入用一个函数映射，在此基础上再用线性回归求边界，如LR\n",
    "    * 将输入表示成一个01向量或其他可比对的向量，然后计算MSL.     \n",
    "2. 涉及到K>2的分类问题，可能会导致mask问题，即可能部分的类被遮盖对决策边界不起作用，如下图(右图LDA能正确分类），蓝色点在0.5附近，对0，1无偏好：    \n",
    "    <img src=\"img/mask.png\" width=560 height=320>     \n",
    "   一般的，为解决上述问题，需要使用k-1次多项式，而不是单纯的线性回归，此外，如果输入有p维，最坏情况下需要$p^{K-1}$次多项式。    \n",
    "\n",
    "# 4.3 Linear Discriminant Analysis     \n"
   ]
  },
  {
   "cell_type": "code",
   "execution_count": null,
   "metadata": {},
   "outputs": [],
   "source": []
  }
 ],
 "metadata": {
  "kernelspec": {
   "display_name": "Python 3",
   "language": "python",
   "name": "python3"
  },
  "language_info": {
   "codemirror_mode": {
    "name": "ipython",
    "version": 3
   },
   "file_extension": ".py",
   "mimetype": "text/x-python",
   "name": "python",
   "nbconvert_exporter": "python",
   "pygments_lexer": "ipython3",
   "version": "3.6.4"
  }
 },
 "nbformat": 4,
 "nbformat_minor": 2
}
