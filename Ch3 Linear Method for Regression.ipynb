{
 "cells": [
  {
   "cell_type": "markdown",
   "metadata": {
    "collapsed": true
   },
   "source": [
    "# 第三章 线性回归方法"
   ]
  },
  {
   "cell_type": "markdown",
   "metadata": {},
   "source": [
    "## 3.2 线性回归模型和最小二乘法\n",
    "1. **残差的平方和**    \n",
    "$RSS(\\beta) = (y-X\\beta)^T(y-X\\beta)$    &emsp;(1)    \n",
    "$\\frac{\\partial RSS}{\\partial \\beta} = -2X^T(y-X\\beta)$    &emsp;(2)     \n",
    "$\\frac{\\partial^2 RSS}{\\partial\\beta\\partial\\beta^T} = 2X^TX $     &emsp;(3)    \n",
    "由（2）式可得，当X列满秩时，    \n",
    "$X^T(y-X\\beta) = 0 $    &emsp;（4）    \n",
    "有唯一解：    \n",
    "$\\hat\\beta = (X^TX)^{-1}X^Ty$.   &emsp; (5)    \n",
    "所以 $\\hat y = X\\hat\\beta = X(X^TX)^{-1}X^Ty $&emsp;(6)    \n",
    "当X列满秩时，由（4）式中的正交性可得，下图中的$y-\\hat y$垂直于所有X构成的样本子空间。    \n",
    "当X不是列满秩时，不满足正交性，y在X的子空间的映射$\\hat y$可能有多种方式，解决的办法是去掉多余的列。   \n",
    "\n",
    "    <img src='img/orthgonal_y.png' width=320 height=320 align = \"center\"/>    \n",
    "2. **一些基本的数学分布** \n",
    "    * 指数分布：    \n",
    "    $f(x;\\beta) = \\begin{cases}\\frac{1}{\\beta} e^{-x/\\beta}, &x>0\\\\0, &其他\\end{cases}$    \n",
    "    指数分布的均值和方差分别为$\\beta$和$\\beta^2$    \n",
    "    * 伽马分布：    \n",
    "    来源于伽马函数： $\\Gamma(\\alpha) = \\int_0^\\infty x^{\\alpha-1}e^{-x}dx $。    \n",
    "    再对伽马分布进行定义：\n",
    "    连续随机变量X服从参数为\\alpha和\\beta的伽马分布，其密度函数满足下式：    \n",
    "    $f(x;\\alpha,\\beta) = \\begin{cases}\\frac{1}{\\beta^\\alpha \\Gamma(\\alpha)} x^{\\alpha -1}e^{-x/\\beta},&x>0\\\\0,&\\text{其他}\\end{cases}$    \n",
    "    伽马分布的均值和方差分别为$\\alpha\\beta$和$\\alpha\\beta^2$, 当$\\alpha$为1时,伽马分布即为指数分布。\n",
    "    * 卡方分布：若n个相互独立的随机变量ξ₁、ξ₂、……、ξn ，均服从标准正态分布（也称独立同分布于标准正态分布），则这n个服从标准正态分布的随机变量的平方和$\\sum \\limits_{i=1}^{n}\\xi_{i}^{2} $构成一新的随机变量，其分布规律称为$\\chi^2$分布（chi-square distribution），其中参数n称为自由度。\n",
    "    * t分布: 小样本的分布，正态分布可以算作其特例，相对于正态分布，多了一个参数：自由度，v=n-1，自由度（样本数量）越大，t分布越集中，越接近正态分布，此外，t分布相对于正态分布重要的特性“温良宽厚”，即更能容忍偏离点的出现，允许两侧尾部出现的概率较高，这在小样本出现偏离点的情况下能保持更稳定的分布效果。    \n",
    "    $ T=\\frac{\\bar{X}-\\mu}{S/\\sqrt{n}}$     \n",
    "    在涉及对总体均值进行推断的问题中，或在涉及对照样本（即判断两个样本的均值是否有显著差别）的问题中，t分布有大量应用。此外，t检验用t分布，Z检验用z分布，两者都是用于样本平均值差异性检验的方法，前者用于小样本（样本数小于30),后者用于大样本。    \n",
    "    * F分布: F统计两个独立卡方随机变量的比率，且每个随即便离那个都要除以其自由度：    \n",
    "    $ F = \\frac{U/v_1}{V/v_2}$    \n",
    "    式中，U和V分别是服从自由度为$v_1$和$v_2$的卡方分布的独立随机变量。    \n",
    "    F分布也称为**方差比率分布**，围绕两个来源的变差：    \n",
    "    （1） 样本内的变差    \n",
    "    （2） 样本间的变差    \n",
    " \n",
    "    参考：[t分布、卡方分布，F分布](https://www.cnblogs.com/think-and-do/p/6509239.html)    \n",
    "    &nbsp;\n",
    "3. $\\beta$的样本属性    \n",
    "假设观察值$y_i$相互无关且方差为常数$\\theta^2$:    \n",
    "&emsp; $\\hat \\theta^2 = \\frac{1}{N-p-1}\\sum \\limits_{i=1}^{N}(y_i-{\\hat y}_i)^2$    &emsp;(7)    \n",
    "那么：    &emsp; $Var(\\hat \\beta) = (X^TX)^{-1}\\theta^2 $     &emsp;(8)     \n",
    "显而易见：&emsp; $\\hat\\beta \\sim N(\\beta, (X^TX)^{-1}\\theta^2) $ &emsp; (9)    \n",
    "同时对于多个满足相同正态分布的$y_i$： &emsp; $(N-p-1)\\theta^2 \\sim \\theta^2\\chi^2_{N-p-1} $ &emsp;    \n",
    "满足自由度为N-p-1的卡方分布。接下来我们使用这些性质完成$\\beta_j$的假设检验和置信区间的确定。    \n",
    "&nbsp;\n",
    "4. 检验特定参数$\\beta_j = 0$,我们使用Z统计量：    \n",
    "&emsp; $z_j = \\frac{{\\hat\\beta}_j}{\\hat\\theta\\sqrt{v_j}}$&emsp;&emsp;(10).   \n",
    "其中$v_j$是$(X^TX)^{-1}$第j个对角元素。\n",
    "5. 检验是否可以去掉一个特定的变量，即$\\beta$中的一个参数，通过最终RSS的值检验效果，我们使用F统计量：    \n",
    "&emsp; $F=\\frac{(RSS_0 - RSS_1)/(p_1-p_0)}{RSS_1/(N-p_1-1)}$.&emsp;&emsp;(11)    \n",
    "6. 我们还可以单独获取$\\beta_j$的$1-2\\alpha$的置信区间:     \n",
    "$({\\hat \\beta}_j-z^{(1-\\alpha)}v^{\\frac{1}{2}}_j\\hat{\\theta}\\ ,\\quad {\\hat\\beta}_j+z^{(1-\\alpha)}v^{\\frac{1}{2}}_j\\hat{\\theta}\\ ) $   &emsp; (12)     \n",
    "7. 还可以用卡方统计量观察$\\hat\\beta$是否在对应的置信区间内:    \n",
    "&emsp; $C_\\beta = \\{ \\beta | (\\hat\\beta - \\beta)^TX^TX(\\hat\\beta-\\beta) \\le {\\hat\\theta}^2{\\chi_{p+1}^2}^{(1-\\alpha)}\\}$. &emsp; (13)\n",
    "\n",
    "*可以用假设检验和置信区间的方式排除无用参数，但工程中一般不会考虑这种严谨繁琐的步骤吧*\n"
   ]
  },
  {
   "cell_type": "code",
   "execution_count": null,
   "metadata": {},
   "outputs": [],
   "source": []
  },
  {
   "cell_type": "code",
   "execution_count": null,
   "metadata": {},
   "outputs": [],
   "source": []
  },
  {
   "cell_type": "code",
   "execution_count": null,
   "metadata": {},
   "outputs": [],
   "source": []
  },
  {
   "cell_type": "code",
   "execution_count": null,
   "metadata": {},
   "outputs": [],
   "source": []
  }
 ],
 "metadata": {
  "kernelspec": {
   "display_name": "Python 3",
   "language": "python",
   "name": "python3"
  },
  "language_info": {
   "codemirror_mode": {
    "name": "ipython",
    "version": 3
   },
   "file_extension": ".py",
   "mimetype": "text/x-python",
   "name": "python",
   "nbconvert_exporter": "python",
   "pygments_lexer": "ipython3",
   "version": "3.6.4"
  }
 },
 "nbformat": 4,
 "nbformat_minor": 1
}
